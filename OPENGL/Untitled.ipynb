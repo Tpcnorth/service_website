{
 "cells": [
  {
   "cell_type": "code",
   "execution_count": 1,
   "id": "431b590a",
   "metadata": {},
   "outputs": [
    {
     "ename": "TypeError",
     "evalue": "draw() takes 2 positional arguments but 4 were given",
     "output_type": "error",
     "traceback": [
      "\u001b[1;31m---------------------------------------------------------------------------\u001b[0m",
      "\u001b[1;31mTypeError\u001b[0m                                 Traceback (most recent call last)",
      "Input \u001b[1;32mIn [1]\u001b[0m, in \u001b[0;36m<cell line: 17>\u001b[1;34m()\u001b[0m\n\u001b[0;32m     11\u001b[0m     pyglet\u001b[38;5;241m.\u001b[39mgraphics\u001b[38;5;241m.\u001b[39mdraw(\u001b[38;5;241m2\u001b[39m, pyglet\u001b[38;5;241m.\u001b[39mgl\u001b[38;5;241m.\u001b[39mGL_POINTS,\n\u001b[0;32m     12\u001b[0m         (\u001b[38;5;124m'\u001b[39m\u001b[38;5;124mv2i\u001b[39m\u001b[38;5;124m'\u001b[39m, (\u001b[38;5;241m10\u001b[39m, \u001b[38;5;241m15\u001b[39m, \u001b[38;5;241m30\u001b[39m, \u001b[38;5;241m35\u001b[39m)),\n\u001b[0;32m     13\u001b[0m         (\u001b[38;5;124m'\u001b[39m\u001b[38;5;124mc3B\u001b[39m\u001b[38;5;124m'\u001b[39m, (\u001b[38;5;241m0\u001b[39m, \u001b[38;5;241m0\u001b[39m, \u001b[38;5;241m255\u001b[39m, \u001b[38;5;241m0\u001b[39m, \u001b[38;5;241m255\u001b[39m, \u001b[38;5;241m0\u001b[39m))\n\u001b[0;32m     14\u001b[0m     )\n\u001b[0;32m     16\u001b[0m \u001b[38;5;66;03m# 运行应用程序\u001b[39;00m\n\u001b[1;32m---> 17\u001b[0m \u001b[43mpyglet\u001b[49m\u001b[38;5;241;43m.\u001b[39;49m\u001b[43mapp\u001b[49m\u001b[38;5;241;43m.\u001b[39;49m\u001b[43mrun\u001b[49m\u001b[43m(\u001b[49m\u001b[43m)\u001b[49m\n",
      "File \u001b[1;32m~\\anaconda3\\lib\\site-packages\\pyglet\\app\\__init__.py:76\u001b[0m, in \u001b[0;36mrun\u001b[1;34m(interval)\u001b[0m\n\u001b[0;32m     68\u001b[0m \u001b[38;5;28;01mdef\u001b[39;00m \u001b[38;5;21mrun\u001b[39m(interval\u001b[38;5;241m=\u001b[39m\u001b[38;5;241m1\u001b[39m \u001b[38;5;241m/\u001b[39m \u001b[38;5;241m60\u001b[39m):\n\u001b[0;32m     69\u001b[0m     \u001b[38;5;124;03m\"\"\"Begin processing events, scheduled functions and window updates.\u001b[39;00m\n\u001b[0;32m     70\u001b[0m \n\u001b[0;32m     71\u001b[0m \u001b[38;5;124;03m    This is a convenience function, equivalent to::\u001b[39;00m\n\u001b[1;32m   (...)\u001b[0m\n\u001b[0;32m     74\u001b[0m \n\u001b[0;32m     75\u001b[0m \u001b[38;5;124;03m    \"\"\"\u001b[39;00m\n\u001b[1;32m---> 76\u001b[0m     \u001b[43mevent_loop\u001b[49m\u001b[38;5;241;43m.\u001b[39;49m\u001b[43mrun\u001b[49m\u001b[43m(\u001b[49m\u001b[43minterval\u001b[49m\u001b[43m)\u001b[49m\n",
      "File \u001b[1;32m~\\anaconda3\\lib\\site-packages\\pyglet\\app\\base.py:163\u001b[0m, in \u001b[0;36mEventLoop.run\u001b[1;34m(self, interval)\u001b[0m\n\u001b[0;32m    160\u001b[0m \u001b[38;5;28mself\u001b[39m\u001b[38;5;241m.\u001b[39mis_running \u001b[38;5;241m=\u001b[39m \u001b[38;5;28;01mTrue\u001b[39;00m\n\u001b[0;32m    162\u001b[0m \u001b[38;5;28;01mwhile\u001b[39;00m \u001b[38;5;129;01mnot\u001b[39;00m \u001b[38;5;28mself\u001b[39m\u001b[38;5;241m.\u001b[39mhas_exit:\n\u001b[1;32m--> 163\u001b[0m     timeout \u001b[38;5;241m=\u001b[39m \u001b[38;5;28;43mself\u001b[39;49m\u001b[38;5;241;43m.\u001b[39;49m\u001b[43midle\u001b[49m\u001b[43m(\u001b[49m\u001b[43m)\u001b[49m\n\u001b[0;32m    164\u001b[0m     platform_event_loop\u001b[38;5;241m.\u001b[39mstep(timeout)\n\u001b[0;32m    166\u001b[0m \u001b[38;5;28mself\u001b[39m\u001b[38;5;241m.\u001b[39mis_running \u001b[38;5;241m=\u001b[39m \u001b[38;5;28;01mFalse\u001b[39;00m\n",
      "File \u001b[1;32m~\\anaconda3\\lib\\site-packages\\pyglet\\app\\base.py:224\u001b[0m, in \u001b[0;36mEventLoop.idle\u001b[1;34m(self)\u001b[0m\n\u001b[0;32m    199\u001b[0m \u001b[38;5;124;03m\"\"\"Called during each iteration of the event loop.\u001b[39;00m\n\u001b[0;32m    200\u001b[0m \n\u001b[0;32m    201\u001b[0m \u001b[38;5;124;03mThe method is called immediately after any window events (i.e., after\u001b[39;00m\n\u001b[1;32m   (...)\u001b[0m\n\u001b[0;32m    221\u001b[0m \u001b[38;5;124;03m    be called again, or `None` to block for user input.\u001b[39;00m\n\u001b[0;32m    222\u001b[0m \u001b[38;5;124;03m\"\"\"\u001b[39;00m\n\u001b[0;32m    223\u001b[0m dt \u001b[38;5;241m=\u001b[39m \u001b[38;5;28mself\u001b[39m\u001b[38;5;241m.\u001b[39mclock\u001b[38;5;241m.\u001b[39mupdate_time()\n\u001b[1;32m--> 224\u001b[0m \u001b[38;5;28;43mself\u001b[39;49m\u001b[38;5;241;43m.\u001b[39;49m\u001b[43mclock\u001b[49m\u001b[38;5;241;43m.\u001b[39;49m\u001b[43mcall_scheduled_functions\u001b[49m\u001b[43m(\u001b[49m\u001b[43mdt\u001b[49m\u001b[43m)\u001b[49m\n\u001b[0;32m    226\u001b[0m \u001b[38;5;66;03m# Update timout\u001b[39;00m\n\u001b[0;32m    227\u001b[0m \u001b[38;5;28;01mreturn\u001b[39;00m \u001b[38;5;28mself\u001b[39m\u001b[38;5;241m.\u001b[39mclock\u001b[38;5;241m.\u001b[39mget_sleep_time(\u001b[38;5;28;01mTrue\u001b[39;00m)\n",
      "File \u001b[1;32m~\\anaconda3\\lib\\site-packages\\pyglet\\clock.py:217\u001b[0m, in \u001b[0;36mClock.call_scheduled_functions\u001b[1;34m(self, dt)\u001b[0m\n\u001b[0;32m    214\u001b[0m     \u001b[38;5;28;01mbreak\u001b[39;00m\n\u001b[0;32m    216\u001b[0m \u001b[38;5;66;03m# execute the callback\u001b[39;00m\n\u001b[1;32m--> 217\u001b[0m item\u001b[38;5;241m.\u001b[39mfunc(now \u001b[38;5;241m-\u001b[39m item\u001b[38;5;241m.\u001b[39mlast_ts, \u001b[38;5;241m*\u001b[39mitem\u001b[38;5;241m.\u001b[39margs, \u001b[38;5;241m*\u001b[39m\u001b[38;5;241m*\u001b[39mitem\u001b[38;5;241m.\u001b[39mkwargs)\n\u001b[0;32m    219\u001b[0m \u001b[38;5;28;01mif\u001b[39;00m item\u001b[38;5;241m.\u001b[39minterval:\n\u001b[0;32m    220\u001b[0m \n\u001b[0;32m    221\u001b[0m     \u001b[38;5;66;03m# Try to keep timing regular, even if overslept this time;\u001b[39;00m\n\u001b[0;32m    222\u001b[0m     \u001b[38;5;66;03m# but don't schedule in the past (which could lead to\u001b[39;00m\n\u001b[0;32m    223\u001b[0m     \u001b[38;5;66;03m# infinitely-worsening error).\u001b[39;00m\n\u001b[0;32m    224\u001b[0m     item\u001b[38;5;241m.\u001b[39mnext_ts \u001b[38;5;241m=\u001b[39m item\u001b[38;5;241m.\u001b[39mlast_ts \u001b[38;5;241m+\u001b[39m item\u001b[38;5;241m.\u001b[39minterval\n",
      "File \u001b[1;32m~\\anaconda3\\lib\\site-packages\\pyglet\\app\\base.py:118\u001b[0m, in \u001b[0;36mEventLoop._redraw_windows\u001b[1;34m(dt)\u001b[0m\n\u001b[0;32m    116\u001b[0m \u001b[38;5;28;01mfor\u001b[39;00m window \u001b[38;5;129;01min\u001b[39;00m app\u001b[38;5;241m.\u001b[39mwindows:\n\u001b[0;32m    117\u001b[0m     window\u001b[38;5;241m.\u001b[39mswitch_to()\n\u001b[1;32m--> 118\u001b[0m     \u001b[43mwindow\u001b[49m\u001b[38;5;241;43m.\u001b[39;49m\u001b[43mdispatch_event\u001b[49m\u001b[43m(\u001b[49m\u001b[38;5;124;43m'\u001b[39;49m\u001b[38;5;124;43mon_draw\u001b[39;49m\u001b[38;5;124;43m'\u001b[39;49m\u001b[43m)\u001b[49m\n\u001b[0;32m    119\u001b[0m     window\u001b[38;5;241m.\u001b[39mdispatch_event(\u001b[38;5;124m'\u001b[39m\u001b[38;5;124mon_refresh\u001b[39m\u001b[38;5;124m'\u001b[39m, dt)\n\u001b[0;32m    120\u001b[0m     window\u001b[38;5;241m.\u001b[39mflip()\n",
      "File \u001b[1;32m~\\anaconda3\\lib\\site-packages\\pyglet\\window\\__init__.py:671\u001b[0m, in \u001b[0;36mBaseWindow.dispatch_event\u001b[1;34m(self, *args)\u001b[0m\n\u001b[0;32m    669\u001b[0m \u001b[38;5;28;01mdef\u001b[39;00m \u001b[38;5;21mdispatch_event\u001b[39m(\u001b[38;5;28mself\u001b[39m, \u001b[38;5;241m*\u001b[39margs):\n\u001b[0;32m    670\u001b[0m     \u001b[38;5;28;01mif\u001b[39;00m \u001b[38;5;129;01mnot\u001b[39;00m \u001b[38;5;28mself\u001b[39m\u001b[38;5;241m.\u001b[39m_enable_event_queue \u001b[38;5;129;01mor\u001b[39;00m \u001b[38;5;28mself\u001b[39m\u001b[38;5;241m.\u001b[39m_allow_dispatch_event:\n\u001b[1;32m--> 671\u001b[0m         \u001b[38;5;28;43msuper\u001b[39;49m\u001b[43m(\u001b[49m\u001b[43m)\u001b[49m\u001b[38;5;241;43m.\u001b[39;49m\u001b[43mdispatch_event\u001b[49m\u001b[43m(\u001b[49m\u001b[38;5;241;43m*\u001b[39;49m\u001b[43margs\u001b[49m\u001b[43m)\u001b[49m\n\u001b[0;32m    672\u001b[0m     \u001b[38;5;28;01melse\u001b[39;00m:\n\u001b[0;32m    673\u001b[0m         \u001b[38;5;28mself\u001b[39m\u001b[38;5;241m.\u001b[39m_event_queue\u001b[38;5;241m.\u001b[39mappend(args)\n",
      "File \u001b[1;32m~\\anaconda3\\lib\\site-packages\\pyglet\\event.py:383\u001b[0m, in \u001b[0;36mEventDispatcher.dispatch_event\u001b[1;34m(self, event_type, *args)\u001b[0m\n\u001b[0;32m    381\u001b[0m             \u001b[38;5;28;01mreturn\u001b[39;00m EVENT_HANDLED\n\u001b[0;32m    382\u001b[0m     \u001b[38;5;28;01mexcept\u001b[39;00m \u001b[38;5;167;01mTypeError\u001b[39;00m \u001b[38;5;28;01mas\u001b[39;00m exception:\n\u001b[1;32m--> 383\u001b[0m         \u001b[38;5;28;43mself\u001b[39;49m\u001b[38;5;241;43m.\u001b[39;49m\u001b[43m_raise_dispatch_exception\u001b[49m\u001b[43m(\u001b[49m\u001b[43mevent_type\u001b[49m\u001b[43m,\u001b[49m\u001b[43m \u001b[49m\u001b[43margs\u001b[49m\u001b[43m,\u001b[49m\u001b[43m \u001b[49m\u001b[43mhandler\u001b[49m\u001b[43m,\u001b[49m\u001b[43m \u001b[49m\u001b[43mexception\u001b[49m\u001b[43m)\u001b[49m\n\u001b[0;32m    385\u001b[0m \u001b[38;5;66;03m# Check instance for an event handler\u001b[39;00m\n\u001b[0;32m    386\u001b[0m \u001b[38;5;28;01mtry\u001b[39;00m:\n",
      "File \u001b[1;32m~\\anaconda3\\lib\\site-packages\\pyglet\\event.py:446\u001b[0m, in \u001b[0;36mEventDispatcher._raise_dispatch_exception\u001b[1;34m(event_type, args, handler, exception)\u001b[0m\n\u001b[0;32m    442\u001b[0m     \u001b[38;5;28;01mraise\u001b[39;00m \u001b[38;5;167;01mTypeError\u001b[39;00m(\u001b[38;5;124mf\u001b[39m\u001b[38;5;124m\"\u001b[39m\u001b[38;5;124mThe \u001b[39m\u001b[38;5;124m'\u001b[39m\u001b[38;5;132;01m{\u001b[39;00mevent_type\u001b[38;5;132;01m}\u001b[39;00m\u001b[38;5;124m'\u001b[39m\u001b[38;5;124m event was dispatched with \u001b[39m\u001b[38;5;132;01m{\u001b[39;00m\u001b[38;5;28mlen\u001b[39m(args)\u001b[38;5;132;01m}\u001b[39;00m\u001b[38;5;124m arguments,\u001b[39m\u001b[38;5;130;01m\\n\u001b[39;00m\u001b[38;5;124m\"\u001b[39m\n\u001b[0;32m    443\u001b[0m                     \u001b[38;5;124mf\u001b[39m\u001b[38;5;124m\"\u001b[39m\u001b[38;5;124mbut your handler \u001b[39m\u001b[38;5;132;01m{\u001b[39;00mdescr\u001b[38;5;132;01m}\u001b[39;00m\u001b[38;5;124m accepts only \u001b[39m\u001b[38;5;132;01m{\u001b[39;00mn_handler_args\u001b[38;5;132;01m}\u001b[39;00m\u001b[38;5;124m arguments.\u001b[39m\u001b[38;5;124m\"\u001b[39m)\n\u001b[0;32m    445\u001b[0m \u001b[38;5;28;01melse\u001b[39;00m:\n\u001b[1;32m--> 446\u001b[0m     \u001b[38;5;28;01mraise\u001b[39;00m exception\n",
      "File \u001b[1;32m~\\anaconda3\\lib\\site-packages\\pyglet\\event.py:380\u001b[0m, in \u001b[0;36mEventDispatcher.dispatch_event\u001b[1;34m(self, event_type, *args)\u001b[0m\n\u001b[0;32m    378\u001b[0m \u001b[38;5;28;01mtry\u001b[39;00m:\n\u001b[0;32m    379\u001b[0m     invoked \u001b[38;5;241m=\u001b[39m \u001b[38;5;28;01mTrue\u001b[39;00m\n\u001b[1;32m--> 380\u001b[0m     \u001b[38;5;28;01mif\u001b[39;00m \u001b[43mhandler\u001b[49m\u001b[43m(\u001b[49m\u001b[38;5;241;43m*\u001b[39;49m\u001b[43margs\u001b[49m\u001b[43m)\u001b[49m:\n\u001b[0;32m    381\u001b[0m         \u001b[38;5;28;01mreturn\u001b[39;00m EVENT_HANDLED\n\u001b[0;32m    382\u001b[0m \u001b[38;5;28;01mexcept\u001b[39;00m \u001b[38;5;167;01mTypeError\u001b[39;00m \u001b[38;5;28;01mas\u001b[39;00m exception:\n",
      "Input \u001b[1;32mIn [1]\u001b[0m, in \u001b[0;36mon_draw\u001b[1;34m()\u001b[0m\n\u001b[0;32m      7\u001b[0m \u001b[38;5;129m@window\u001b[39m\u001b[38;5;241m.\u001b[39mevent\n\u001b[0;32m      8\u001b[0m \u001b[38;5;28;01mdef\u001b[39;00m \u001b[38;5;21mon_draw\u001b[39m():\n\u001b[0;32m      9\u001b[0m     window\u001b[38;5;241m.\u001b[39mclear()\n\u001b[1;32m---> 11\u001b[0m     \u001b[43mpyglet\u001b[49m\u001b[38;5;241;43m.\u001b[39;49m\u001b[43mgraphics\u001b[49m\u001b[38;5;241;43m.\u001b[39;49m\u001b[43mdraw\u001b[49m\u001b[43m(\u001b[49m\u001b[38;5;241;43m2\u001b[39;49m\u001b[43m,\u001b[49m\u001b[43m \u001b[49m\u001b[43mpyglet\u001b[49m\u001b[38;5;241;43m.\u001b[39;49m\u001b[43mgl\u001b[49m\u001b[38;5;241;43m.\u001b[39;49m\u001b[43mGL_POINTS\u001b[49m\u001b[43m,\u001b[49m\n\u001b[0;32m     12\u001b[0m \u001b[43m        \u001b[49m\u001b[43m(\u001b[49m\u001b[38;5;124;43m'\u001b[39;49m\u001b[38;5;124;43mv2i\u001b[39;49m\u001b[38;5;124;43m'\u001b[39;49m\u001b[43m,\u001b[49m\u001b[43m \u001b[49m\u001b[43m(\u001b[49m\u001b[38;5;241;43m10\u001b[39;49m\u001b[43m,\u001b[49m\u001b[43m \u001b[49m\u001b[38;5;241;43m15\u001b[39;49m\u001b[43m,\u001b[49m\u001b[43m \u001b[49m\u001b[38;5;241;43m30\u001b[39;49m\u001b[43m,\u001b[49m\u001b[43m \u001b[49m\u001b[38;5;241;43m35\u001b[39;49m\u001b[43m)\u001b[49m\u001b[43m)\u001b[49m\u001b[43m,\u001b[49m\n\u001b[0;32m     13\u001b[0m \u001b[43m        \u001b[49m\u001b[43m(\u001b[49m\u001b[38;5;124;43m'\u001b[39;49m\u001b[38;5;124;43mc3B\u001b[39;49m\u001b[38;5;124;43m'\u001b[39;49m\u001b[43m,\u001b[49m\u001b[43m \u001b[49m\u001b[43m(\u001b[49m\u001b[38;5;241;43m0\u001b[39;49m\u001b[43m,\u001b[49m\u001b[43m \u001b[49m\u001b[38;5;241;43m0\u001b[39;49m\u001b[43m,\u001b[49m\u001b[43m \u001b[49m\u001b[38;5;241;43m255\u001b[39;49m\u001b[43m,\u001b[49m\u001b[43m \u001b[49m\u001b[38;5;241;43m0\u001b[39;49m\u001b[43m,\u001b[49m\u001b[43m \u001b[49m\u001b[38;5;241;43m255\u001b[39;49m\u001b[43m,\u001b[49m\u001b[43m \u001b[49m\u001b[38;5;241;43m0\u001b[39;49m\u001b[43m)\u001b[49m\u001b[43m)\u001b[49m\n\u001b[0;32m     14\u001b[0m \u001b[43m    \u001b[49m\u001b[43m)\u001b[49m\n",
      "\u001b[1;31mTypeError\u001b[0m: draw() takes 2 positional arguments but 4 were given"
     ]
    }
   ],
   "source": [
    "import pyglet\n",
    "\n",
    "# 创建窗口\n",
    "window = pyglet.window.Window(800, 600)\n",
    "\n",
    "# 设置窗口背景颜色为白色\n",
    "@window.event\n",
    "def on_draw():\n",
    "    window.clear()\n",
    "\n",
    "    pyglet.graphics.draw(2, pyglet.gl.GL_POINTS,\n",
    "        ('v2i', (10, 15)),\n",
    "        ('c3B', (0, 0, 255, 0, 255, 0))\n",
    "    )\n",
    "\n",
    "# 运行应用程序\n",
    "pyglet.app.run()\n",
    "\n"
   ]
  },
  {
   "cell_type": "code",
   "execution_count": null,
   "id": "7107efc8",
   "metadata": {},
   "outputs": [],
   "source": []
  }
 ],
 "metadata": {
  "kernelspec": {
   "display_name": "Python 3 (ipykernel)",
   "language": "python",
   "name": "python3"
  },
  "language_info": {
   "codemirror_mode": {
    "name": "ipython",
    "version": 3
   },
   "file_extension": ".py",
   "mimetype": "text/x-python",
   "name": "python",
   "nbconvert_exporter": "python",
   "pygments_lexer": "ipython3",
   "version": "3.9.12"
  }
 },
 "nbformat": 4,
 "nbformat_minor": 5
}
